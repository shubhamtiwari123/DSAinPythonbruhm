{
 "cells": [
  {
   "cell_type": "code",
   "execution_count": 9,
   "id": "8656dd90",
   "metadata": {},
   "outputs": [],
   "source": [
    "class singlylinkedlist:\n",
    "    def __init__(self,val,next=None):\n",
    "        self.val=val\n",
    "        self.next=next\n",
    "        \n",
    "    def __str__(self):\n",
    "        return(self.val)\n",
    "    \n",
    "\n",
    "        "
   ]
  },
  {
   "cell_type": "code",
   "execution_count": 10,
   "id": "9e5d7b47",
   "metadata": {},
   "outputs": [],
   "source": [
    "Head = singlylinkedlist(4)\n",
    "A=singlylinkedlist(5)\n",
    "B= singlylinkedlist(6)\n",
    "C=singlylinkedlist(2)"
   ]
  },
  {
   "cell_type": "code",
   "execution_count": 11,
   "id": "5aec94a6",
   "metadata": {},
   "outputs": [],
   "source": [
    "Head.next=A\n",
    "A.next=B\n",
    "B.next=C\n"
   ]
  },
  {
   "cell_type": "code",
   "execution_count": 14,
   "id": "53b8d9ef",
   "metadata": {},
   "outputs": [
    {
     "ename": "TypeError",
     "evalue": "__str__ returned non-string (type int)",
     "output_type": "error",
     "traceback": [
      "\u001b[1;31m---------------------------------------------------------------------------\u001b[0m",
      "\u001b[1;31mTypeError\u001b[0m                                 Traceback (most recent call last)",
      "\u001b[1;32m~\\AppData\\Local\\Temp\\ipykernel_5404\\3399184053.py\u001b[0m in \u001b[0;36m<module>\u001b[1;34m\u001b[0m\n\u001b[0;32m      1\u001b[0m \u001b[0mcurr\u001b[0m\u001b[1;33m=\u001b[0m\u001b[0mHead\u001b[0m\u001b[1;33m\u001b[0m\u001b[1;33m\u001b[0m\u001b[0m\n\u001b[0;32m      2\u001b[0m \u001b[1;32mwhile\u001b[0m \u001b[0mcurr\u001b[0m\u001b[1;33m:\u001b[0m\u001b[1;33m\u001b[0m\u001b[1;33m\u001b[0m\u001b[0m\n\u001b[1;32m----> 3\u001b[1;33m     \u001b[0mprint\u001b[0m\u001b[1;33m(\u001b[0m\u001b[0mcurr\u001b[0m\u001b[1;33m)\u001b[0m\u001b[1;33m\u001b[0m\u001b[1;33m\u001b[0m\u001b[0m\n\u001b[0m\u001b[0;32m      4\u001b[0m     \u001b[0mcurr\u001b[0m\u001b[1;33m=\u001b[0m\u001b[0mcurr\u001b[0m\u001b[1;33m.\u001b[0m\u001b[0mnext\u001b[0m\u001b[1;33m\u001b[0m\u001b[1;33m\u001b[0m\u001b[0m\n",
      "\u001b[1;31mTypeError\u001b[0m: __str__ returned non-string (type int)"
     ]
    }
   ],
   "source": [
    "curr=Head\n",
    "while curr:\n",
    "    print(curr)\n",
    "    curr=curr.next"
   ]
  }
 ],
 "metadata": {
  "kernelspec": {
   "display_name": "base",
   "language": "python",
   "name": "python3"
  },
  "language_info": {
   "codemirror_mode": {
    "name": "ipython",
    "version": 3
   },
   "file_extension": ".py",
   "mimetype": "text/x-python",
   "name": "python",
   "nbconvert_exporter": "python",
   "pygments_lexer": "ipython3",
   "version": "3.9.13"
  }
 },
 "nbformat": 4,
 "nbformat_minor": 5
}
